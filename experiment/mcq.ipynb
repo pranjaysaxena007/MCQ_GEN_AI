{
 "cells": [
  {
   "cell_type": "code",
   "execution_count": 1,
   "id": "8774b7ef",
   "metadata": {},
   "outputs": [],
   "source": [
    "import os\n",
    "import json\n",
    "import pandas as pd\n",
    "import traceback"
   ]
  },
  {
   "cell_type": "code",
   "execution_count": 2,
   "id": "d492f9a2",
   "metadata": {},
   "outputs": [
    {
     "data": {
      "text/plain": [
       "True"
      ]
     },
     "execution_count": 2,
     "metadata": {},
     "output_type": "execute_result"
    }
   ],
   "source": [
    "from dotenv import load_dotenv\n",
    "load_dotenv()"
   ]
  },
  {
   "cell_type": "code",
   "execution_count": null,
   "id": "bab79707",
   "metadata": {},
   "outputs": [
    {
     "name": "stderr",
     "output_type": "stream",
     "text": [
      "c:\\Users\\lenovo\\miniconda3\\envs\\env\\lib\\site-packages\\tqdm\\auto.py:21: TqdmWarning: IProgress not found. Please update jupyter and ipywidgets. See https://ipywidgets.readthedocs.io/en/stable/user_install.html\n",
      "  from .autonotebook import tqdm as notebook_tqdm\n"
     ]
    },
    {
     "name": "stdout",
     "output_type": "stream",
     "text": [
      "content='```python\\nprint(\"Hello\") \\n```\\n\\n**Explanation:**\\n\\n* **`print()`:** This is a built-in Python function that displays output to the console.\\n* **`\"Hello\"`:** This is a string literal. The text inside the double quotes is what will be displayed.\\n\\nWhen you run this code, it will simply output:\\n\\n```\\nHello\\n```' additional_kwargs={} response_metadata={'prompt_feedback': {'block_reason': 0, 'safety_ratings': []}, 'finish_reason': 'STOP', 'safety_ratings': []} id='run--ced93bf6-8f71-4631-85c2-868771f7ecf9-0' usage_metadata={'input_tokens': 5, 'output_tokens': 80, 'total_tokens': 85, 'input_token_details': {'cache_read': 0}}\n"
     ]
    }
   ],
   "source": [
    "#Testing api key\n",
    "from langchain_google_genai import ChatGoogleGenerativeAI\n",
    "from langchain_google_genai import ChatGoogleGenerativeAI\n",
    "import os\n",
    "from dotenv import load_dotenv\n",
    "\n",
    "load_dotenv()\n",
    "llm = ChatGoogleGenerativeAI(\n",
    "    model=\"gemini-2.5-flash-lite\",\n",
    "    google_api_key=os.getenv(\"GOOGLE-API-KEY\"),\n",
    "    temperature=0.3\n",
    ")\n",
    "\n",
    "response = llm.invoke(\"Say hello in Python\")\n",
    "print(response)"
   ]
  },
  {
   "cell_type": "code",
   "execution_count": 4,
   "id": "ababefa6",
   "metadata": {},
   "outputs": [],
   "source": [
    "from langchain_google_genai import ChatGoogleGenerativeAI\n",
    "\n",
    "llm = ChatGoogleGenerativeAI(\n",
    "    model=\"gemini-2.5-flash-lite\",\n",
    "    google_api_key = os.getenv(\"GOOGLE-API-KEY\")\n",
    ")"
   ]
  },
  {
   "cell_type": "code",
   "execution_count": 5,
   "id": "4bb11ef7",
   "metadata": {},
   "outputs": [],
   "source": [
    "from langchain.prompts import PromptTemplate\n",
    "from langchain.chains import LLMChain,SequentialChain\n",
    "from langchain.callbacks import get_openai_callback\n",
    "import PyPDF2"
   ]
  },
  {
   "cell_type": "code",
   "execution_count": 6,
   "id": "6c4501df",
   "metadata": {},
   "outputs": [],
   "source": [
    "TEMPLATE = \"\"\"\n",
    "Text:{text}\n",
    "You are an expert MCQ maker. Given the above text your job is to create {number} multiple choice questions in {tone} tone.\n",
    "Make sure questions are not repeated and make sure that they follow the text above.\n",
    "Make sure to format the response on basis of RESPONSE_JSON below.\n",
    "##RESPONSE_JSON\n",
    "{response_json} \n",
    "\"\"\""
   ]
  },
  {
   "cell_type": "code",
   "execution_count": 7,
   "id": "18dcf2b7",
   "metadata": {},
   "outputs": [],
   "source": [
    "quiz_generation_prompt = PromptTemplate(\n",
    "    input_variables=[\"text\",\"number\",\"subject\",\"tone\",\"response_json\"],\n",
    "    template=TEMPLATE\n",
    ")"
   ]
  },
  {
   "cell_type": "code",
   "execution_count": 8,
   "id": "a499fdbd",
   "metadata": {},
   "outputs": [],
   "source": [
    "RESPONSE_JSON = {\n",
    "    \"1\":{\n",
    "        \"mcq\":\"multiple choice qustion\",\n",
    "        \"options\":{\n",
    "            \"a\":\"option 1\",\n",
    "            \"b\":\"option 2\",\n",
    "            \"c\":\"option 3\",\n",
    "            \"d\":\"option 4\"\n",
    "        },\n",
    "        \"answer\":\"correct answer\",\n",
    "    },\n",
    "    \"2\":{\n",
    "        \"mcq\":\"multiple choice qustion\",\n",
    "        \"options\":{\n",
    "            \"a\":\"option 1\",\n",
    "            \"b\":\"option 2\",\n",
    "            \"c\":\"option 3\",\n",
    "            \"d\":\"option 4\"\n",
    "        },\n",
    "        \"answer\":\"correct answer\",\n",
    "    },\n",
    "    \"3\":{\n",
    "        \"mcq\":\"multiple choice qustion\",\n",
    "        \"options\":{\n",
    "            \"a\":\"option 1\",\n",
    "            \"b\":\"option 2\",\n",
    "            \"c\":\"option 3\",\n",
    "            \"d\":\"option 4\"\n",
    "        },\n",
    "        \"answer\":\"correct answer\",\n",
    "    },\n",
    "}"
   ]
  },
  {
   "cell_type": "code",
   "execution_count": 27,
   "id": "6179f1aa",
   "metadata": {},
   "outputs": [],
   "source": [
    "from langchain_core.runnables import RunnableLambda\n",
    "from langchain_core.runnables import RunnableSequence\n",
    "from langchain_core.runnables import RunnableParallel, RunnablePassthrough\n",
    "\n",
    "quiz_chain = RunnableParallel({\n",
    "    \"quiz\": quiz_generation_prompt | llm,\n",
    "    \"subject\": RunnablePassthrough()\n",
    "})"
   ]
  },
  {
   "cell_type": "code",
   "execution_count": 10,
   "id": "e94b9c07",
   "metadata": {},
   "outputs": [],
   "source": [
    "TEMPLATE2 = \"\"\"\n",
    "Youo are an expert english grammarian and writer. Given a multiple choice Quiz for {subject} students.\n",
    "You need to evaluate the complexity of the quiz questions, and also check wheather is quiz is adapt to the quantitstive and cognitive ability of students.\n",
    "If not yiu need to change the questions and change the tone so that it perfectly fits the students abilities.\n",
    "QUIZ MCQ:{quiz}\n",
    "\n",
    "Check as an expert english Writer for the above quiz.\n",
    "\"\"\""
   ]
  },
  {
   "cell_type": "code",
   "execution_count": 11,
   "id": "27fa8436",
   "metadata": {},
   "outputs": [],
   "source": [
    "quiz_evaluation_prompt = PromptTemplate(\n",
    "    input_variables=['subject','quiz'],\n",
    "    template=TEMPLATE2\n",
    ")"
   ]
  },
  {
   "cell_type": "code",
   "execution_count": 12,
   "id": "139ce78b",
   "metadata": {},
   "outputs": [],
   "source": [
    "review_chain = RunnableSequence(\n",
    "    quiz_evaluation_prompt,\n",
    "    llm,\n",
    "    RunnableLambda(lambda x: {\"review\": x})\n",
    ")"
   ]
  },
  {
   "cell_type": "code",
   "execution_count": 13,
   "id": "5692543d",
   "metadata": {},
   "outputs": [],
   "source": [
    "from langchain_core.runnables import RunnableSequence\n",
    "\n",
    "generate_evaluate_chain = quiz_chain | review_chain"
   ]
  },
  {
   "cell_type": "code",
   "execution_count": 14,
   "id": "adc3aacb",
   "metadata": {},
   "outputs": [],
   "source": [
    "file_path = \"P:\\Code\\Gen_AI_course_ineuron\\MCQ_GEN_AI\\data.txt\"\n",
    "with open(file_path,\"r\") as file:\n",
    "    TEXT = file.read()"
   ]
  },
  {
   "cell_type": "code",
   "execution_count": 15,
   "id": "41d43055",
   "metadata": {},
   "outputs": [
    {
     "name": "stdout",
     "output_type": "stream",
     "text": [
      "Machine learning (ML) is a field of study in artificial intelligence concerned with the development and study of statistical algorithms that can learn from data and generalise to unseen data, and thus perform tasks without explicit instructions.[1] Within a subdiscipline in machine learning, advances in the field of deep learning have allowed neural networks, a class of statistical algorithms, to surpass many previous machine learning approaches in performance.[2]\n",
      "\n",
      "ML finds application in many fields, including natural language processing, computer vision, speech recognition, email filtering, agriculture, and medicine. The application of ML to business problems is known as predictive analytics.\n",
      "\n",
      "Statistics and mathematical optimisation (mathematical programming) methods comprise the foundations of machine learning. Data mining is a related field of study, focusing on exploratory data analysis (EDA) via unsupervised learning.[4][5]\n",
      "\n",
      "From a theoretical viewpoint, probably approximately correct learning provides a framework for describing machine learning.\n",
      "\n",
      "History\n",
      "See also: Timeline of machine learning\n",
      "The term machine learning was coined in 1959 by Arthur Samuel, an IBM employee and pioneer in the field of computer gaming and artificial intelligence.[6][7] The synonym self-teaching computers was also used in this time period.[8][9]\n",
      "\n",
      "The earliest machine learning program was introduced in the 1950s when Arthur Samuel invented a computer program that calculated the winning chance in checkers for each side, but the history of machine learning roots back to decades of human desire and effort to study human cognitive processes.[10] In 1949, Canadian psychologist Donald Hebb published the book The Organization of Behavior, in which he introduced a theoretical neural structure formed by certain interactions among nerve cells.[11] Hebb's model of neurons interacting with one another set a groundwork for how AIs and machine learning algorithms work under nodes, or artificial neurons used by computers to communicate data.[10] Other researchers who have studied human cognitive systems contributed to the modern machine learning technologies as well, including logician Walter Pitts and Warren McCulloch, who proposed the early mathematical models of neural networks to come up with algorithms that mirror human thought processes.[10]\n",
      "\n",
      "By the early 1960s, an experimental \"learning machine\" with punched tape memory, called Cybertron, had been developed by Raytheon Company to analyse sonar signals, electrocardiograms, and speech patterns using rudimentary reinforcement learning. It was repetitively \"trained\" by a human operator/teacher to recognise patterns and equipped with a \"goof\" button to cause it to reevaluate incorrect decisions.[12] A representative book on research into machine learning during the 1960s was Nilsson's book on Learning Machines, dealing mostly with machine learning for pattern classification.[13] Interest related to pattern recognition continued into the 1970s, as described by Duda and Hart in 1973.[14] In 1981 a report was given on using teaching strategies so that an artificial neural network learns to recognise 40 characters (26 letters, 10 digits, and 4 special symbols) from a computer terminal.[15]\n",
      "\n",
      "Tom M. Mitchell provided a widely quoted, more formal definition of the algorithms studied in the machine learning field: \"A computer program is said to learn from experience E with respect to some class of tasks T and performance measure P if its performance at tasks in T, as measured by P, improves with experience E.\"[16] This definition of the tasks in which machine learning is concerned offers a fundamentally operational definition rather than defining the field in cognitive terms. This follows Alan Turing's proposal in his paper \"Computing Machinery and Intelligence\", in which the question \"Can machines think?\" is replaced with the question \"Can machines do what we (as thinking entities) can do?\".[17]\n",
      "\n",
      "Modern-day machine learning has two objectives. One is to classify data based on models which have been developed; the other purpose is to make predictions for future outcomes based on these models. A hypothetical algorithm specific to classifying data may use computer vision of moles coupled with supervised learning in order to train it to classify the cancerous moles. A machine learning algorithm for stock trading may inform the trader of future potential predictions.[18]\n",
      "\n",
      "Relationships to other fields\n",
      "Artificial intelligence\n",
      "\n",
      "Deep learning is a subset of machine learning, which is itself a subset of artificial intelligence.[19]\n",
      "As a scientific endeavour, machine learning grew out of the quest for artificial intelligence (AI). In the early days of AI as an academic discipline, some researchers were interested in having machines learn from data. They attempted to approach the problem with various symbolic methods, as well as what were then termed \"neural networks\"; these were mostly perceptrons and other models that were later found to be reinventions of the generalised linear models of statistics.[20] Probabilistic reasoning was also employed, especially in automated medical diagnosis.[21]: 488 \n",
      "\n",
      "However, an increasing emphasis on the logical, knowledge-based approach caused a rift between AI and machine learning. Probabilistic systems were plagued by theoretical and practical problems of data acquisition and representation.[21]: 488  By 1980, expert systems had come to dominate AI, and statistics was out of favour.[22] Work on symbolic/knowledge-based learning did continue within AI, leading to inductive logic programming(ILP), but the more statistical line of research was now outside the field of AI proper, in pattern recognition and information retrieval.[21]: 708–710, 755  Neural networks research had been abandoned by AI and computer science around the same time. This line, too, was continued outside the AI/CS field, as \"connectionism\", by researchers from other disciplines including John Hopfield, David Rumelhart, and Geoffrey Hinton. Their main success came in the mid-1980s with the reinvention of backpropagation.[21]: 25 \n",
      "\n",
      "Machine learning (ML), reorganised and recognised as its own field, started to flourish in the 1990s. The field changed its goal from achieving artificial intelligence to tackling solvable problems of a practical nature. It shifted focus away from the symbolic approaches it had inherited from AI, and toward methods and models borrowed from statistics, fuzzy logic, and probability theory.[22]\n",
      "\n",
      "Data compression\n",
      "This section is an excerpt from Data compression § Machine learning.[edit]\n",
      "There is a close connection between machine learning and compression. A system that predicts the posterior probabilities of a sequence given its entire history can be used for optimal data compression (by using arithmetic coding on the output distribution). Conversely, an optimal compressor can be used for prediction (by finding the symbol that compresses best, given the previous history). This equivalence has been used as a justification for using data compression as a benchmark for \"general intelligence\".[23][24][25]\n",
      "\n",
      "An alternative view can show compression algorithms implicitly map strings into implicit feature space vectors, and compression-based similarity measures compute similarity within these feature spaces. For each compressor C(.) we define an associated vector space ℵ, such that C(.) maps an input string x, corresponding to the vector norm ||~x||. An exhaustive examination of the feature spaces underlying all compression algorithms is precluded by space; instead, feature vectors chooses to examine three representative lossless compression methods, LZW, LZ77, and PPM.[26]\n",
      "\n",
      "According to AIXI theory, a connection more directly explained in Hutter Prize, the best possible compression of x is the smallest possible software that generates x. For example, in that model, a zip file's compressed size includes both the zip file and the unzipping software, since you can not unzip it without both, but there may be an even smaller combined form.\n",
      "\n",
      "Examples of AI-powered audio/video compression software include NVIDIA Maxine, AIVC.[27] Examples of software that can perform AI-powered image compression include OpenCV, TensorFlow, MATLAB's Image Processing Toolbox (IPT) and High-Fidelity Generative Image Compression.[28]\n",
      "\n",
      "In unsupervised machine learning, k-means clustering can be utilized to compress data by grouping similar data points into clusters. This technique simplifies handling extensive datasets that lack predefined labels and finds widespread use in fields such as image compression.[29]\n",
      "\n",
      "Data compression aims to reduce the size of data files, enhancing storage efficiency and speeding up data transmission. K-means clustering, an unsupervised machine learning algorithm, is employed to partition a dataset into a specified number of clusters, k, each represented by the centroid of its points. This process condenses extensive datasets into a more compact set of representative points. Particularly beneficial in image and signal processing, k-means clustering aids in data reduction by replacing groups of data points with their centroids, thereby preserving the core information of the original data while significantly decreasing the required storage space.[30]\n",
      "\n",
      "Large language models (LLMs) are also efficient lossless data compressors on some data sets, as demonstrated by DeepMind's research with the Chinchilla 70B model. Developed by DeepMind, Chinchilla 70B effectively compressed data, outperforming conventional methods such as Portable Network Graphics (PNG) for images and Free Lossless Audio Codec (FLAC) for audio. It achieved compression of image and audio data to 43.4% and 16.4% of their original sizes, respectively. There is, however, some reason to be concerned that the data set used for testing overlaps the LLM training data set, making it possible that the Chinchilla 70B model is only an efficient compression tool on data it has already been trained on.[31][32]\n",
      "Data mining\n",
      "Machine learning and data mining often employ the same methods and overlap significantly, but while machine learning focuses on prediction, based on known properties learned from the training data, data mining focuses on the discovery of (previously) unknown properties in the data (this is the analysis step of knowledge discovery in databases). Data mining uses many machine learning methods, but with different goals; on the other hand, machine learning also employs data mining methods as \"unsupervised learning\" or as a preprocessing step to improve learner accuracy. Much of the confusion between these two research communities (which do often have separate conferences and separate journals, ECML PKDD being a major exception) comes from the basic assumptions they work with: in machine learning, performance is usually evaluated with respect to the ability to reproduce known knowledge, while in knowledge discovery and data mining (KDD) the key task is the discovery of previously unknown knowledge. Evaluated with respect to known knowledge, an uninformed (unsupervised) method will easily be outperformed by other supervised methods, while in a typical KDD task, supervised methods cannot be used due to the unavailability of training data.\n",
      "\n",
      "Machine learning also has intimate ties to optimisation: Many learning problems are formulated as minimisation of some loss function on a training set of examples. Loss functions express the discrepancy between the predictions of the model being trained and the actual problem instances (for example, in classification, one wants to assign a label to instances, and models are trained to correctly predict the preassigned labels of a set of examples).[33]\n",
      "\n",
      "Generalization\n",
      "Characterizing the generalisation of various learning algorithms is an active topic of current research, especially for deep learning algorithms.\n",
      "\n",
      "Statistics\n",
      "Machine learning and statistics are closely related fields in terms of methods, but distinct in their principal goal: statistics draws population inferences from a sample, while machine learning finds generalisable predictive patterns.[34]\n",
      "\n",
      "Conventional statistical analyses require the a priori selection of a model most suitable for the study data set. In addition, only significant or theoretically relevant variables based on previous experience are included for analysis. In contrast, machine learning is not built on a pre-structured model; rather, the data shape the model by detecting underlying patterns. The more variables (input) used to train the model, the more accurate the ultimate model will be.[35]\n",
      "\n",
      "Leo Breiman distinguished two statistical modelling paradigms: data model and algorithmic model,[36] wherein \"algorithmic model\" means more or less the machine learning algorithms like Random Forest.\n",
      "\n",
      "Some statisticians have adopted methods from machine learning, leading to a combined field that they call statistical learning.[37]\n",
      "\n",
      "Statistical physics\n",
      "Analytical and computational techniques derived from deep-rooted physics of disordered systems can be extended to large-scale problems, including machine learning, e.g., to analyse the weight space of deep neural networks.[38] Statistical physics is thus finding applications in the area of medical diagnostics.[39]\n",
      "\n",
      "Theory\n",
      "Main articles: Computational learning theory and Statistical learning theory\n",
      "A core objective of a learner is to generalise from its experience.[3][40] Generalisation in this context is the ability of a learning machine to perform accurately on new, unseen examples/tasks after having experienced a learning data set. The training examples come from some generally unknown probability distribution (considered representative of the space of occurrences) and the learner has to build a general model about this space that enables it to produce sufficiently accurate predictions in new cases.\n",
      "\n",
      "The computational analysis of machine learning algorithms and their performance is a branch of theoretical computer science known as computational learning theory via the probably approximately correct learning model. Because training sets are finite and the future is uncertain, learning theory usually does not yield guarantees of the performance of algorithms. Instead, probabilistic bounds on the performance are quite common. The bias–variance decomposition is one way to quantify generalisation error.\n",
      "\n",
      "For the best performance in the context of generalisation, the complexity of the hypothesis should match the complexity of the function underlying the data. If the hypothesis is less complex than the function, then the model has under fitted the data. If the complexity of the model is increased in response, then the training error decreases. But if the hypothesis is too complex, then the model is subject to overfitting and generalisation will be poorer.[41]\n",
      "\n",
      "In addition to performance bounds, learning theorists study the time complexity and feasibility of learning. In computational learning theory, a computation is considered feasible if it can be done in polynomial time. There are two kinds of time complexity results: Positive results show that a certain class of functions can be learned in polynomial time. Negative results show that certain classes cannot be learned in polynomial time.\n"
     ]
    }
   ],
   "source": [
    "print(TEXT)"
   ]
  },
  {
   "cell_type": "code",
   "execution_count": 16,
   "id": "ae24bc5a",
   "metadata": {},
   "outputs": [
    {
     "data": {
      "text/plain": [
       "'{\"1\": {\"mcq\": \"multiple choice qustion\", \"options\": {\"a\": \"option 1\", \"b\": \"option 2\", \"c\": \"option 3\", \"d\": \"option 4\"}, \"answer\": \"correct answer\"}, \"2\": {\"mcq\": \"multiple choice qustion\", \"options\": {\"a\": \"option 1\", \"b\": \"option 2\", \"c\": \"option 3\", \"d\": \"option 4\"}, \"answer\": \"correct answer\"}, \"3\": {\"mcq\": \"multiple choice qustion\", \"options\": {\"a\": \"option 1\", \"b\": \"option 2\", \"c\": \"option 3\", \"d\": \"option 4\"}, \"answer\": \"correct answer\"}}'"
      ]
     },
     "execution_count": 16,
     "metadata": {},
     "output_type": "execute_result"
    }
   ],
   "source": [
    "json.dumps(RESPONSE_JSON)"
   ]
  },
  {
   "cell_type": "code",
   "execution_count": 17,
   "id": "da7eaeec",
   "metadata": {},
   "outputs": [],
   "source": [
    "NUMBER = 5\n",
    "SUBJECT = \"python\"\n",
    "TONE = \"simple\""
   ]
  },
  {
   "cell_type": "code",
   "execution_count": 18,
   "id": "a751cf2f",
   "metadata": {},
   "outputs": [],
   "source": [
    "from contextlib import contextmanager\n",
    "\n",
    "@contextmanager\n",
    "def get_gemini_callback():\n",
    "    usage_log = {\n",
    "        \"prompt_tokens\": 0,\n",
    "        \"completion_tokens\": 0,\n",
    "        \"total_tokens\": 0,\n",
    "        \"total_cost\": 0.0\n",
    "    }\n",
    "    yield usage_log\n",
    "    # You can log or return this after yield"
   ]
  },
  {
   "cell_type": "code",
   "execution_count": 28,
   "id": "9126407e",
   "metadata": {},
   "outputs": [],
   "source": [
    "quiz_output = quiz_chain.invoke(\n",
    "    {\n",
    "        \"text\": TEXT,\n",
    "        \"number\": NUMBER,\n",
    "        \"subject\": SUBJECT,\n",
    "        \"tone\": TONE,\n",
    "        \"response_json\": json.dumps(RESPONSE_JSON)\n",
    "    }\n",
    ")"
   ]
  },
  {
   "cell_type": "code",
   "execution_count": 26,
   "id": "f2c6715b",
   "metadata": {},
   "outputs": [],
   "source": [
    "with get_gemini_callback() as gc:\n",
    "    response = generate_evaluate_chain.invoke(\n",
    "        {\n",
    "            \"text\":TEXT,\n",
    "            \"number\": NUMBER,\n",
    "            \"subject\":SUBJECT,\n",
    "            \"tone\": TONE,\n",
    "            \"response_json\": json.dumps(RESPONSE_JSON)\n",
    "        }\n",
    "    )"
   ]
  },
  {
   "cell_type": "code",
   "execution_count": 20,
   "id": "3e6643ba",
   "metadata": {},
   "outputs": [
    {
     "name": "stdout",
     "output_type": "stream",
     "text": [
      "{'review': AIMessage(content='Here\\'s an evaluation of the provided quiz and suggestions for improvement, considering the target audience and the desired tone:\\n\\n## Quiz Evaluation:\\n\\n**Overall Complexity:** The quiz is generally well-structured and the questions directly relate to the provided text. The complexity of the questions is appropriate for an introductory understanding of the topic. The vocabulary used is largely accessible, aligning with a \"simple\" tone.\\n\\n**Quantitative and Cognitive Ability:**\\n\\n*   **Quantitative Ability:** The quiz does not heavily test quantitative ability, which is appropriate given the subject matter is primarily conceptual. There are no calculations or complex data interpretations required.\\n*   **Cognitive Ability:** The questions assess recall of facts (who coined the term), understanding of definitions (main goal of ML), identification of subdisciplines, and comparison of related concepts (ML vs. Data Mining). This is suitable for testing comprehension of the provided text.\\n\\n**Adaptation to Students\\' Abilities:**\\n\\nThe quiz is **reasonably well-adapted** to students who are new to machine learning. The questions are straightforward and require careful reading of the text. The \"simple\" tone is maintained effectively.\\n\\n## Suggestions for Improvement:\\n\\nWhile the quiz is good, here are some ways to enhance it, focusing on slight adjustments to cognitive demand and ensuring perfect alignment with a \"simple\" tone:\\n\\n**Tone Adjustment:** The current tone is \"simple,\" which is good. However, for an absolute beginner, we can simplify some phrasing slightly without losing accuracy.\\n\\n**Potential for Deeper Understanding (Optional, depending on target student level):** While the current questions are good for recall, a few could be slightly rephrased to encourage a bit more synthesis or application of knowledge from the text.\\n\\n---\\n\\n## Revised Quiz:\\n\\nHere\\'s a revised version of the quiz, with minor adjustments to phrasing for even greater clarity and a consistently simple tone. I\\'ve also added a brief explanation for each change.\\n\\n**Rationale for Changes:**\\n\\n*   **Question 1:** Slightly rephrased option \\'a\\' to be more direct in its contrast with machine learning\\'s core principle.\\n*   **Question 2:** No changes needed, this is a clear factual recall question.\\n*   **Question 3:** No changes needed, this is a clear factual recall question.\\n*   **Question 4:** No changes needed, this is a clear factual recall question.\\n*   **Question 5:** Rephrased option \\'a\\' to be more precise about data mining\\'s focus.\\n\\n```json\\n{\\n  \"1\": {\\n    \"mcq\": \"What is the main goal of machine learning?\",\\n    \"options\": {\\n      \"a\": \"To create computers that follow exact, step-by-step instructions.\",\\n      \"b\": \"To develop algorithms that learn from data without needing every step explained.\",\\n      \"c\": \"To focus only on theoretical ideas about how learning works.\",\\n      \"d\": \"To use only symbolic methods in artificial intelligence.\"\\n    },\\n    \"answer\": \"b\"\\n  },\\n  \"2\": {\\n    \"mcq\": \"Who is credited with first using the term \\\\\\\\\\\\\"machine learning\\\\\\\\\\\\\"?\",\\n    \"options\": {\\n      \"a\": \"Arthur Samuel\",\\n      \"b\": \"Donald Hebb\",\\n      \"c\": \"Walter Pitts\",\\n      \"d\": \"Alan Turing\"\\n    },\\n    \"answer\": \"a\"\\n  },\\n  \"3\": {\\n    \"mcq\": \"Which part of machine learning has made neural networks perform much better than older methods?\",\\n    \"options\": {\\n      \"a\": \"Data mining\",\\n      \"b\": \"Predictive analytics\",\\n      \"c\": \"Deep learning\",\\n      \"d\": \"Statistical physics\"\\n    },\\n    \"answer\": \"c\"\\n  },\\n  \"4\": {\\n    \"mcq\": \"According to the text, which field studies data by looking at it without specific instructions (unsupervised learning)?\",\\n    \"options\": {\\n      \"a\": \"Predictive analytics\",\\n      \"b\": \"Data mining\",\\n      \"c\": \"Artificial intelligence\",\\n      \"d\": \"Computer vision\"\\n    },\\n    \"answer\": \"b\"\\n  },\\n  \"5\": {\\n    \"mcq\": \"What is the main difference in what machine learning and data mining try to do?\",\\n    \"options\": {\\n      \"a\": \"Machine learning finds new things, while data mining predicts based on what\\'s known.\",\\n      \"b\": \"Machine learning tries to predict things, while data mining looks for unknown patterns in data.\",\\n      \"c\": \"Machine learning only uses known data, while data mining uses only unknown data.\",\\n      \"d\": \"Machine learning needs clear instructions, while data mining doesn\\'t.\"\\n    },\\n    \"answer\": \"b\"\\n  }\\n}\\n```\\n\\n---\\n\\n**Explanation of Revisions:**\\n\\n*   **Question 1, Option a:** Changed \"create explicit instructions for computers\" to \"create computers that follow exact, step-by-step instructions.\" This is a more relatable way to describe explicit instructions for a beginner.\\n*   **Question 1, Option b:** Changed \"develop statistical algorithms that learn from data without explicit instructions\" to \"develop algorithms that learn from data without needing every step explained.\" \"Needing every step explained\" is a simpler way to convey the concept of \"explicit instructions.\"\\n*   **Question 2:** Changed \"coined the term\" to \"first using the term.\" This is a minor phrasing tweak that is slightly more direct.\\n*   **Question 3:** Changed \"What is a subdiscipline within machine learning that has significantly improved performance using neural networks?\" to \"Which part of machine learning has made neural networks perform much better than older methods?\" This simplification makes the question more accessible.\\n*   **Question 4:** Added \"(unsupervised learning)\" to the question\\'s phrasing for direct reinforcement of the concept being tested.\\n*   **Question 5, Option a:** Changed \"Machine learning focuses on discovery, while data mining focuses on prediction\" to \"Machine learning finds new things, while data mining predicts based on what\\'s known.\" This is a simpler way to contrast the two.\\n*   **Question 5, Option b:** Changed \"Machine learning focuses on prediction, while data mining focuses on discovery of unknown properties\" to \"Machine learning tries to predict things, while data mining looks for unknown patterns in data.\" This phrasing is more direct and uses simpler vocabulary.\\n\\nThese revisions aim to maintain the integrity of the original quiz while ensuring the \"simple\" tone is perfectly executed and the cognitive load is appropriate for an introductory audience.', additional_kwargs={}, response_metadata={'prompt_feedback': {'block_reason': 0, 'safety_ratings': []}, 'finish_reason': 'STOP', 'safety_ratings': []}, id='run--919e078e-3053-434c-bec9-2cbf3be9f963-0', usage_metadata={'input_tokens': 4006, 'output_tokens': 1419, 'total_tokens': 5425, 'input_token_details': {'cache_read': 0}})}\n"
     ]
    }
   ],
   "source": [
    "print(response)"
   ]
  },
  {
   "cell_type": "code",
   "execution_count": 23,
   "id": "80aa0ac2",
   "metadata": {},
   "outputs": [
    {
     "data": {
      "text/plain": [
       "{'review': AIMessage(content='This is a well-constructed quiz that effectively assesses comprehension of the provided text on Machine Learning. The questions are clear, directly related to the content, and the options are plausible distractors. The tone is appropriately simple and informative for a general audience or introductory learners.\\n\\nHere\\'s an evaluation and breakdown:\\n\\n**Evaluation of Quiz Questions:**\\n\\n*   **Question 1: What is machine learning concerned with in artificial intelligence?**\\n    *   **Complexity:** Simple. Directly tests the core definition.\\n    *   **Cognitive Ability:** Recall and understanding of a key concept.\\n    *   **Suitability:** Perfectly suitable.\\n*   **Question 2: Who coined the term \\'machine learning\\'?**\\n    *   **Complexity:** Simple. Tests a specific historical fact.\\n    *   **Cognitive Ability:** Recall of a proper noun.\\n    *   **Suitability:** Perfectly suitable.\\n*   **Question 3: According to the text, what is a key difference between machine learning and data mining in terms of their goals?**\\n    *   **Complexity:** Moderate. Requires comparing and contrasting two related concepts based on nuanced definitions.\\n    *   **Cognitive Ability:** Comprehension, comparison, and synthesis of information.\\n    *   **Suitability:** Perfectly suitable.\\n*   **Question 4: What is the main goal of a learner in machine learning, as described in the theory section?**\\n    *   **Complexity:** Moderate. Tests understanding of a theoretical concept (generalization) and its purpose.\\n    *   **Cognitive Ability:** Comprehension of abstract concepts and their implications.\\n    *   **Suitability:** Perfectly suitable.\\n*   **Question 5: What is the relationship between deep learning, machine learning, and artificial intelligence?**\\n    *   **Complexity:** Simple. Tests understanding of hierarchical relationships between fields.\\n    *   **Cognitive Ability:** Understanding of set theory and hierarchical structures.\\n    *   **Suitability:** Perfectly suitable.\\n\\n**Overall Assessment:**\\n\\n*   **Complexity:** The quiz ranges from simple recall to moderate comprehension and comparison. This is a good balance for an introductory assessment.\\n*   **Cognitive Ability:** The questions effectively test recall, understanding, and the ability to synthesize information from the text. They are appropriate for students with a foundational understanding of the subject matter or those learning it for the first time.\\n*   **Tone:** The \"simple\" tone is maintained throughout, making the questions accessible and easy to understand.\\n*   **Adaptation to Students:** The quiz is well-adapted to students\\' abilities. It doesn\\'t require advanced analytical skills or deep domain expertise, making it suitable for a wide range of learners. The questions are factual and conceptual, aligning well with typical learning objectives for an introductory text.\\n\\n**No changes are necessary.** The quiz is well-aligned with the provided text and the stated objectives. The questions are clear, the options are appropriate, and the overall difficulty is suitable for an introductory level.', additional_kwargs={}, response_metadata={'prompt_feedback': {'block_reason': 0, 'safety_ratings': []}, 'finish_reason': 'STOP', 'safety_ratings': []}, id='run--b291a24e-a23a-46fe-91dc-d9c97207eb5b-0', usage_metadata={'input_tokens': 4069, 'output_tokens': 629, 'total_tokens': 4698, 'input_token_details': {'cache_read': 0}})}"
      ]
     },
     "execution_count": 23,
     "metadata": {},
     "output_type": "execute_result"
    }
   ],
   "source": [
    "response"
   ]
  },
  {
   "cell_type": "code",
   "execution_count": 29,
   "id": "56b4b424",
   "metadata": {},
   "outputs": [
    {
     "data": {
      "text/plain": [
       "{'quiz': AIMessage(content='```json\\n{\\n  \"1\": {\\n    \"mcq\": \"Who coined the term \\'machine learning\\'?\",\\n    \"options\": {\\n      \"a\": \"Arthur Samuel\",\\n      \"b\": \"Alan Turing\",\\n      \"c\": \"Donald Hebb\",\\n      \"d\": \"Geoffrey Hinton\"\\n    },\\n    \"answer\": \"Arthur Samuel\"\\n  },\\n  \"2\": {\\n    \"mcq\": \"What is a subdiscipline of machine learning that has enabled neural networks to surpass previous approaches?\",\\n    \"options\": {\\n      \"a\": \"Data Mining\",\\n      \"b\": \"Deep Learning\",\\n      \"c\": \"Predictive Analytics\",\\n      \"d\": \"Statistical Physics\"\\n    },\\n    \"answer\": \"Deep Learning\"\\n  },\\n  \"3\": {\\n    \"mcq\": \"According to the text, what is a key difference between machine learning and data mining?\",\\n    \"options\": {\\n      \"a\": \"Machine learning focuses on discovery, while data mining focuses on prediction.\",\\n      \"b\": \"Machine learning uses symbolic methods, while data mining uses statistical methods.\",\\n      \"c\": \"Machine learning focuses on prediction, while data mining focuses on discovery of unknown properties.\",\\n      \"d\": \"Data mining is a subset of machine learning, while machine learning is not related to AI.\"\\n    },\\n    \"answer\": \"Machine learning focuses on prediction, while data mining focuses on discovery of unknown properties.\"\\n  },\\n  \"4\": {\\n    \"mcq\": \"What is the primary goal of generalization in machine learning?\",\\n    \"options\": {\\n      \"a\": \"To create models that only work on the training data.\",\\n      \"b\": \"To perform accurately on new, unseen examples after learning from a dataset.\",\\n      \"c\": \"To reduce the complexity of the data.\",\\n      \"d\": \"To ensure the model is less complex than the underlying function.\"\\n    },\\n    \"answer\": \"To perform accurately on new, unseen examples after learning from a dataset.\"\\n  },\\n  \"5\": {\\n    \"mcq\": \"Which field\\'s techniques can be extended to machine learning problems like analyzing the weight space of deep neural networks?\",\\n    \"options\": {\\n      \"a\": \"Data Compression\",\\n      \"b\": \"Natural Language Processing\",\\n      \"c\": \"Statistical Physics\",\\n      \"d\": \"Computer Vision\"\\n    },\\n    \"answer\": \"Statistical Physics\"\\n  }\\n}\\n```', additional_kwargs={}, response_metadata={'prompt_feedback': {'block_reason': 0, 'safety_ratings': []}, 'finish_reason': 'STOP', 'safety_ratings': []}, id='run--f1a79470-3013-4a39-95a8-070d0b412cac-0', usage_metadata={'input_tokens': 3191, 'output_tokens': 544, 'total_tokens': 3735, 'input_token_details': {'cache_read': 3065}}),\n",
       " 'subject': {'text': 'Machine learning (ML) is a field of study in artificial intelligence concerned with the development and study of statistical algorithms that can learn from data and generalise to unseen data, and thus perform tasks without explicit instructions.[1] Within a subdiscipline in machine learning, advances in the field of deep learning have allowed neural networks, a class of statistical algorithms, to surpass many previous machine learning approaches in performance.[2]\\n\\nML finds application in many fields, including natural language processing, computer vision, speech recognition, email filtering, agriculture, and medicine. The application of ML to business problems is known as predictive analytics.\\n\\nStatistics and mathematical optimisation (mathematical programming) methods comprise the foundations of machine learning. Data mining is a related field of study, focusing on exploratory data analysis (EDA) via unsupervised learning.[4][5]\\n\\nFrom a theoretical viewpoint, probably approximately correct learning provides a framework for describing machine learning.\\n\\nHistory\\nSee also: Timeline of machine learning\\nThe term machine learning was coined in 1959 by Arthur Samuel, an IBM employee and pioneer in the field of computer gaming and artificial intelligence.[6][7] The synonym self-teaching computers was also used in this time period.[8][9]\\n\\nThe earliest machine learning program was introduced in the 1950s when Arthur Samuel invented a computer program that calculated the winning chance in checkers for each side, but the history of machine learning roots back to decades of human desire and effort to study human cognitive processes.[10] In 1949, Canadian psychologist Donald Hebb published the book The Organization of Behavior, in which he introduced a theoretical neural structure formed by certain interactions among nerve cells.[11] Hebb\\'s model of neurons interacting with one another set a groundwork for how AIs and machine learning algorithms work under nodes, or artificial neurons used by computers to communicate data.[10] Other researchers who have studied human cognitive systems contributed to the modern machine learning technologies as well, including logician Walter Pitts and Warren McCulloch, who proposed the early mathematical models of neural networks to come up with algorithms that mirror human thought processes.[10]\\n\\nBy the early 1960s, an experimental \"learning machine\" with punched tape memory, called Cybertron, had been developed by Raytheon Company to analyse sonar signals, electrocardiograms, and speech patterns using rudimentary reinforcement learning. It was repetitively \"trained\" by a human operator/teacher to recognise patterns and equipped with a \"goof\" button to cause it to reevaluate incorrect decisions.[12] A representative book on research into machine learning during the 1960s was Nilsson\\'s book on Learning Machines, dealing mostly with machine learning for pattern classification.[13] Interest related to pattern recognition continued into the 1970s, as described by Duda and Hart in 1973.[14] In 1981 a report was given on using teaching strategies so that an artificial neural network learns to recognise 40 characters (26 letters, 10 digits, and 4 special symbols) from a computer terminal.[15]\\n\\nTom M. Mitchell provided a widely quoted, more formal definition of the algorithms studied in the machine learning field: \"A computer program is said to learn from experience E with respect to some class of tasks T and performance measure P if its performance at tasks in T, as measured by P, improves with experience E.\"[16] This definition of the tasks in which machine learning is concerned offers a fundamentally operational definition rather than defining the field in cognitive terms. This follows Alan Turing\\'s proposal in his paper \"Computing Machinery and Intelligence\", in which the question \"Can machines think?\" is replaced with the question \"Can machines do what we (as thinking entities) can do?\".[17]\\n\\nModern-day machine learning has two objectives. One is to classify data based on models which have been developed; the other purpose is to make predictions for future outcomes based on these models. A hypothetical algorithm specific to classifying data may use computer vision of moles coupled with supervised learning in order to train it to classify the cancerous moles. A machine learning algorithm for stock trading may inform the trader of future potential predictions.[18]\\n\\nRelationships to other fields\\nArtificial intelligence\\n\\nDeep learning is a subset of machine learning, which is itself a subset of artificial intelligence.[19]\\nAs a scientific endeavour, machine learning grew out of the quest for artificial intelligence (AI). In the early days of AI as an academic discipline, some researchers were interested in having machines learn from data. They attempted to approach the problem with various symbolic methods, as well as what were then termed \"neural networks\"; these were mostly perceptrons and other models that were later found to be reinventions of the generalised linear models of statistics.[20] Probabilistic reasoning was also employed, especially in automated medical diagnosis.[21]:\\u200a488\\u200a\\n\\nHowever, an increasing emphasis on the logical, knowledge-based approach caused a rift between AI and machine learning. Probabilistic systems were plagued by theoretical and practical problems of data acquisition and representation.[21]:\\u200a488\\u200a By 1980, expert systems had come to dominate AI, and statistics was out of favour.[22] Work on symbolic/knowledge-based learning did continue within AI, leading to inductive logic programming(ILP), but the more statistical line of research was now outside the field of AI proper, in pattern recognition and information retrieval.[21]:\\u200a708–710,\\u200a755\\u200a Neural networks research had been abandoned by AI and computer science around the same time. This line, too, was continued outside the AI/CS field, as \"connectionism\", by researchers from other disciplines including John Hopfield, David Rumelhart, and Geoffrey Hinton. Their main success came in the mid-1980s with the reinvention of backpropagation.[21]:\\u200a25\\u200a\\n\\nMachine learning (ML), reorganised and recognised as its own field, started to flourish in the 1990s. The field changed its goal from achieving artificial intelligence to tackling solvable problems of a practical nature. It shifted focus away from the symbolic approaches it had inherited from AI, and toward methods and models borrowed from statistics, fuzzy logic, and probability theory.[22]\\n\\nData compression\\nThis section is an excerpt from Data compression § Machine learning.[edit]\\nThere is a close connection between machine learning and compression. A system that predicts the posterior probabilities of a sequence given its entire history can be used for optimal data compression (by using arithmetic coding on the output distribution). Conversely, an optimal compressor can be used for prediction (by finding the symbol that compresses best, given the previous history). This equivalence has been used as a justification for using data compression as a benchmark for \"general intelligence\".[23][24][25]\\n\\nAn alternative view can show compression algorithms implicitly map strings into implicit feature space vectors, and compression-based similarity measures compute similarity within these feature spaces. For each compressor C(.) we define an associated vector space ℵ, such that C(.) maps an input string x, corresponding to the vector norm ||~x||. An exhaustive examination of the feature spaces underlying all compression algorithms is precluded by space; instead, feature vectors chooses to examine three representative lossless compression methods, LZW, LZ77, and PPM.[26]\\n\\nAccording to AIXI theory, a connection more directly explained in Hutter Prize, the best possible compression of x is the smallest possible software that generates x. For example, in that model, a zip file\\'s compressed size includes both the zip file and the unzipping software, since you can not unzip it without both, but there may be an even smaller combined form.\\n\\nExamples of AI-powered audio/video compression software include NVIDIA Maxine, AIVC.[27] Examples of software that can perform AI-powered image compression include OpenCV, TensorFlow, MATLAB\\'s Image Processing Toolbox (IPT) and High-Fidelity Generative Image Compression.[28]\\n\\nIn unsupervised machine learning, k-means clustering can be utilized to compress data by grouping similar data points into clusters. This technique simplifies handling extensive datasets that lack predefined labels and finds widespread use in fields such as image compression.[29]\\n\\nData compression aims to reduce the size of data files, enhancing storage efficiency and speeding up data transmission. K-means clustering, an unsupervised machine learning algorithm, is employed to partition a dataset into a specified number of clusters, k, each represented by the centroid of its points. This process condenses extensive datasets into a more compact set of representative points. Particularly beneficial in image and signal processing, k-means clustering aids in data reduction by replacing groups of data points with their centroids, thereby preserving the core information of the original data while significantly decreasing the required storage space.[30]\\n\\nLarge language models (LLMs) are also efficient lossless data compressors on some data sets, as demonstrated by DeepMind\\'s research with the Chinchilla 70B model. Developed by DeepMind, Chinchilla 70B effectively compressed data, outperforming conventional methods such as Portable Network Graphics (PNG) for images and Free Lossless Audio Codec (FLAC) for audio. It achieved compression of image and audio data to 43.4% and 16.4% of their original sizes, respectively. There is, however, some reason to be concerned that the data set used for testing overlaps the LLM training data set, making it possible that the Chinchilla 70B model is only an efficient compression tool on data it has already been trained on.[31][32]\\nData mining\\nMachine learning and data mining often employ the same methods and overlap significantly, but while machine learning focuses on prediction, based on known properties learned from the training data, data mining focuses on the discovery of (previously) unknown properties in the data (this is the analysis step of knowledge discovery in databases). Data mining uses many machine learning methods, but with different goals; on the other hand, machine learning also employs data mining methods as \"unsupervised learning\" or as a preprocessing step to improve learner accuracy. Much of the confusion between these two research communities (which do often have separate conferences and separate journals, ECML PKDD being a major exception) comes from the basic assumptions they work with: in machine learning, performance is usually evaluated with respect to the ability to reproduce known knowledge, while in knowledge discovery and data mining (KDD) the key task is the discovery of previously unknown knowledge. Evaluated with respect to known knowledge, an uninformed (unsupervised) method will easily be outperformed by other supervised methods, while in a typical KDD task, supervised methods cannot be used due to the unavailability of training data.\\n\\nMachine learning also has intimate ties to optimisation: Many learning problems are formulated as minimisation of some loss function on a training set of examples. Loss functions express the discrepancy between the predictions of the model being trained and the actual problem instances (for example, in classification, one wants to assign a label to instances, and models are trained to correctly predict the preassigned labels of a set of examples).[33]\\n\\nGeneralization\\nCharacterizing the generalisation of various learning algorithms is an active topic of current research, especially for deep learning algorithms.\\n\\nStatistics\\nMachine learning and statistics are closely related fields in terms of methods, but distinct in their principal goal: statistics draws population inferences from a sample, while machine learning finds generalisable predictive patterns.[34]\\n\\nConventional statistical analyses require the a priori selection of a model most suitable for the study data set. In addition, only significant or theoretically relevant variables based on previous experience are included for analysis. In contrast, machine learning is not built on a pre-structured model; rather, the data shape the model by detecting underlying patterns. The more variables (input) used to train the model, the more accurate the ultimate model will be.[35]\\n\\nLeo Breiman distinguished two statistical modelling paradigms: data model and algorithmic model,[36] wherein \"algorithmic model\" means more or less the machine learning algorithms like Random Forest.\\n\\nSome statisticians have adopted methods from machine learning, leading to a combined field that they call statistical learning.[37]\\n\\nStatistical physics\\nAnalytical and computational techniques derived from deep-rooted physics of disordered systems can be extended to large-scale problems, including machine learning, e.g., to analyse the weight space of deep neural networks.[38] Statistical physics is thus finding applications in the area of medical diagnostics.[39]\\n\\nTheory\\nMain articles: Computational learning theory and Statistical learning theory\\nA core objective of a learner is to generalise from its experience.[3][40] Generalisation in this context is the ability of a learning machine to perform accurately on new, unseen examples/tasks after having experienced a learning data set. The training examples come from some generally unknown probability distribution (considered representative of the space of occurrences) and the learner has to build a general model about this space that enables it to produce sufficiently accurate predictions in new cases.\\n\\nThe computational analysis of machine learning algorithms and their performance is a branch of theoretical computer science known as computational learning theory via the probably approximately correct learning model. Because training sets are finite and the future is uncertain, learning theory usually does not yield guarantees of the performance of algorithms. Instead, probabilistic bounds on the performance are quite common. The bias–variance decomposition is one way to quantify generalisation error.\\n\\nFor the best performance in the context of generalisation, the complexity of the hypothesis should match the complexity of the function underlying the data. If the hypothesis is less complex than the function, then the model has under fitted the data. If the complexity of the model is increased in response, then the training error decreases. But if the hypothesis is too complex, then the model is subject to overfitting and generalisation will be poorer.[41]\\n\\nIn addition to performance bounds, learning theorists study the time complexity and feasibility of learning. In computational learning theory, a computation is considered feasible if it can be done in polynomial time. There are two kinds of time complexity results: Positive results show that a certain class of functions can be learned in polynomial time. Negative results show that certain classes cannot be learned in polynomial time.',\n",
       "  'number': 5,\n",
       "  'subject': 'python',\n",
       "  'tone': 'simple',\n",
       "  'response_json': '{\"1\": {\"mcq\": \"multiple choice qustion\", \"options\": {\"a\": \"option 1\", \"b\": \"option 2\", \"c\": \"option 3\", \"d\": \"option 4\"}, \"answer\": \"correct answer\"}, \"2\": {\"mcq\": \"multiple choice qustion\", \"options\": {\"a\": \"option 1\", \"b\": \"option 2\", \"c\": \"option 3\", \"d\": \"option 4\"}, \"answer\": \"correct answer\"}, \"3\": {\"mcq\": \"multiple choice qustion\", \"options\": {\"a\": \"option 1\", \"b\": \"option 2\", \"c\": \"option 3\", \"d\": \"option 4\"}, \"answer\": \"correct answer\"}}'}}"
      ]
     },
     "execution_count": 29,
     "metadata": {},
     "output_type": "execute_result"
    }
   ],
   "source": [
    "quiz_output"
   ]
  },
  {
   "cell_type": "code",
   "execution_count": 30,
   "id": "7052fef1",
   "metadata": {},
   "outputs": [
    {
     "data": {
      "text/plain": [
       "AIMessage(content='```json\\n{\\n  \"1\": {\\n    \"mcq\": \"Who coined the term \\'machine learning\\'?\",\\n    \"options\": {\\n      \"a\": \"Arthur Samuel\",\\n      \"b\": \"Alan Turing\",\\n      \"c\": \"Donald Hebb\",\\n      \"d\": \"Geoffrey Hinton\"\\n    },\\n    \"answer\": \"Arthur Samuel\"\\n  },\\n  \"2\": {\\n    \"mcq\": \"What is a subdiscipline of machine learning that has enabled neural networks to surpass previous approaches?\",\\n    \"options\": {\\n      \"a\": \"Data Mining\",\\n      \"b\": \"Deep Learning\",\\n      \"c\": \"Predictive Analytics\",\\n      \"d\": \"Statistical Physics\"\\n    },\\n    \"answer\": \"Deep Learning\"\\n  },\\n  \"3\": {\\n    \"mcq\": \"According to the text, what is a key difference between machine learning and data mining?\",\\n    \"options\": {\\n      \"a\": \"Machine learning focuses on discovery, while data mining focuses on prediction.\",\\n      \"b\": \"Machine learning uses symbolic methods, while data mining uses statistical methods.\",\\n      \"c\": \"Machine learning focuses on prediction, while data mining focuses on discovery of unknown properties.\",\\n      \"d\": \"Data mining is a subset of machine learning, while machine learning is not related to AI.\"\\n    },\\n    \"answer\": \"Machine learning focuses on prediction, while data mining focuses on discovery of unknown properties.\"\\n  },\\n  \"4\": {\\n    \"mcq\": \"What is the primary goal of generalization in machine learning?\",\\n    \"options\": {\\n      \"a\": \"To create models that only work on the training data.\",\\n      \"b\": \"To perform accurately on new, unseen examples after learning from a dataset.\",\\n      \"c\": \"To reduce the complexity of the data.\",\\n      \"d\": \"To ensure the model is less complex than the underlying function.\"\\n    },\\n    \"answer\": \"To perform accurately on new, unseen examples after learning from a dataset.\"\\n  },\\n  \"5\": {\\n    \"mcq\": \"Which field\\'s techniques can be extended to machine learning problems like analyzing the weight space of deep neural networks?\",\\n    \"options\": {\\n      \"a\": \"Data Compression\",\\n      \"b\": \"Natural Language Processing\",\\n      \"c\": \"Statistical Physics\",\\n      \"d\": \"Computer Vision\"\\n    },\\n    \"answer\": \"Statistical Physics\"\\n  }\\n}\\n```', additional_kwargs={}, response_metadata={'prompt_feedback': {'block_reason': 0, 'safety_ratings': []}, 'finish_reason': 'STOP', 'safety_ratings': []}, id='run--f1a79470-3013-4a39-95a8-070d0b412cac-0', usage_metadata={'input_tokens': 3191, 'output_tokens': 544, 'total_tokens': 3735, 'input_token_details': {'cache_read': 3065}})"
      ]
     },
     "execution_count": 30,
     "metadata": {},
     "output_type": "execute_result"
    }
   ],
   "source": [
    "res = quiz_output.get(\"quiz\")\n",
    "res"
   ]
  },
  {
   "cell_type": "code",
   "execution_count": 39,
   "id": "0e63eb86",
   "metadata": {},
   "outputs": [
    {
     "name": "stdout",
     "output_type": "stream",
     "text": [
      "{\n",
      "    \"1\": {\n",
      "        \"mcq\": \"Who coined the term 'machine learning'?\",\n",
      "        \"options\": {\n",
      "            \"a\": \"Arthur Samuel\",\n",
      "            \"b\": \"Alan Turing\",\n",
      "            \"c\": \"Donald Hebb\",\n",
      "            \"d\": \"Geoffrey Hinton\"\n",
      "        },\n",
      "        \"answer\": \"Arthur Samuel\"\n",
      "    },\n",
      "    \"2\": {\n",
      "        \"mcq\": \"What is a subdiscipline of machine learning that has enabled neural networks to surpass previous approaches?\",\n",
      "        \"options\": {\n",
      "            \"a\": \"Data Mining\",\n",
      "            \"b\": \"Deep Learning\",\n",
      "            \"c\": \"Predictive Analytics\",\n",
      "            \"d\": \"Statistical Physics\"\n",
      "        },\n",
      "        \"answer\": \"Deep Learning\"\n",
      "    },\n",
      "    \"3\": {\n",
      "        \"mcq\": \"According to the text, what is a key difference between machine learning and data mining?\",\n",
      "        \"options\": {\n",
      "            \"a\": \"Machine learning focuses on discovery, while data mining focuses on prediction.\",\n",
      "            \"b\": \"Machine learning uses symbolic methods, while data mining uses statistical methods.\",\n",
      "            \"c\": \"Machine learning focuses on prediction, while data mining focuses on discovery of unknown properties.\",\n",
      "            \"d\": \"Data mining is a subset of machine learning, while machine learning is not related to AI.\"\n",
      "        },\n",
      "        \"answer\": \"Machine learning focuses on prediction, while data mining focuses on discovery of unknown properties.\"\n",
      "    },\n",
      "    \"4\": {\n",
      "        \"mcq\": \"What is the primary goal of generalization in machine learning?\",\n",
      "        \"options\": {\n",
      "            \"a\": \"To create models that only work on the training data.\",\n",
      "            \"b\": \"To perform accurately on new, unseen examples after learning from a dataset.\",\n",
      "            \"c\": \"To reduce the complexity of the data.\",\n",
      "            \"d\": \"To ensure the model is less complex than the underlying function.\"\n",
      "        },\n",
      "        \"answer\": \"To perform accurately on new, unseen examples after learning from a dataset.\"\n",
      "    },\n",
      "    \"5\": {\n",
      "        \"mcq\": \"Which field's techniques can be extended to machine learning problems like analyzing the weight space of deep neural networks?\",\n",
      "        \"options\": {\n",
      "            \"a\": \"Data Compression\",\n",
      "            \"b\": \"Natural Language Processing\",\n",
      "            \"c\": \"Statistical Physics\",\n",
      "            \"d\": \"Computer Vision\"\n",
      "        },\n",
      "        \"answer\": \"Statistical Physics\"\n",
      "    }\n",
      "}\n"
     ]
    }
   ],
   "source": [
    "quiz_string = res.content\n",
    "cleaned_string = quiz_string.strip(\"```json\\n\").strip(\"`\")\n",
    "final_mcqs = json.loads(cleaned_string)\n",
    "final_mcqs\n",
    "print(json.dumps(final_mcqs, indent=4))"
   ]
  },
  {
   "cell_type": "code",
   "execution_count": 40,
   "id": "badbae2a",
   "metadata": {},
   "outputs": [],
   "source": [
    "quiz_table_data = []\n",
    "for key,value in final_mcqs.items():\n",
    "    mcq = value[\"mcq\"]\n",
    "    options = \" | \".join(\n",
    "        [\n",
    "            f\"{option}: {option_value}\"\n",
    "            for option, option_value in value[\"options\"].items()\n",
    "            ]\n",
    "        )\n",
    "    answer = value[\"answer\"]\n",
    "    quiz_table_data.append({\"MCQ\":mcq,\"Choices\":options,\"Answer\":answer})\n"
   ]
  },
  {
   "cell_type": "code",
   "execution_count": 41,
   "id": "80a5ffa3",
   "metadata": {},
   "outputs": [
    {
     "data": {
      "text/plain": [
       "[{'MCQ': \"Who coined the term 'machine learning'?\",\n",
       "  'Choices': 'a: Arthur Samuel | b: Alan Turing | c: Donald Hebb | d: Geoffrey Hinton',\n",
       "  'Answer': 'Arthur Samuel'},\n",
       " {'MCQ': 'What is a subdiscipline of machine learning that has enabled neural networks to surpass previous approaches?',\n",
       "  'Choices': 'a: Data Mining | b: Deep Learning | c: Predictive Analytics | d: Statistical Physics',\n",
       "  'Answer': 'Deep Learning'},\n",
       " {'MCQ': 'According to the text, what is a key difference between machine learning and data mining?',\n",
       "  'Choices': 'a: Machine learning focuses on discovery, while data mining focuses on prediction. | b: Machine learning uses symbolic methods, while data mining uses statistical methods. | c: Machine learning focuses on prediction, while data mining focuses on discovery of unknown properties. | d: Data mining is a subset of machine learning, while machine learning is not related to AI.',\n",
       "  'Answer': 'Machine learning focuses on prediction, while data mining focuses on discovery of unknown properties.'},\n",
       " {'MCQ': 'What is the primary goal of generalization in machine learning?',\n",
       "  'Choices': 'a: To create models that only work on the training data. | b: To perform accurately on new, unseen examples after learning from a dataset. | c: To reduce the complexity of the data. | d: To ensure the model is less complex than the underlying function.',\n",
       "  'Answer': 'To perform accurately on new, unseen examples after learning from a dataset.'},\n",
       " {'MCQ': \"Which field's techniques can be extended to machine learning problems like analyzing the weight space of deep neural networks?\",\n",
       "  'Choices': 'a: Data Compression | b: Natural Language Processing | c: Statistical Physics | d: Computer Vision',\n",
       "  'Answer': 'Statistical Physics'}]"
      ]
     },
     "execution_count": 41,
     "metadata": {},
     "output_type": "execute_result"
    }
   ],
   "source": [
    "quiz_table_data"
   ]
  },
  {
   "cell_type": "code",
   "execution_count": 43,
   "id": "d15bdbf2",
   "metadata": {},
   "outputs": [],
   "source": [
    "quiz = pd.DataFrame(quiz_table_data)"
   ]
  },
  {
   "cell_type": "code",
   "execution_count": 44,
   "id": "cad25abe",
   "metadata": {},
   "outputs": [],
   "source": [
    "quiz.to_csv(\"machinelearning.csv\",index=False)"
   ]
  },
  {
   "cell_type": "code",
   "execution_count": 2,
   "id": "21f09cac",
   "metadata": {},
   "outputs": [
    {
     "name": "stderr",
     "output_type": "stream",
     "text": [
      "p:\\Code\\Gen_AI_course_ineuron\\MCQ_GEN_AI\\env\\lib\\site-packages\\tqdm\\auto.py:21: TqdmWarning: IProgress not found. Please update jupyter and ipywidgets. See https://ipywidgets.readthedocs.io/en/stable/user_install.html\n",
      "  from .autonotebook import tqdm as notebook_tqdm\n",
      "C:\\Users\\lenovo\\AppData\\Local\\Temp\\ipykernel_23124\\742896974.py:43: LangChainDeprecationWarning: The class `LLMChain` was deprecated in LangChain 0.1.17 and will be removed in 1.0. Use :meth:`~RunnableSequence, e.g., `prompt | llm`` instead.\n",
      "  quiz_chain = LLMChain(llm=llm,prompt = quiz_generation_prompt, ouput_key=\"quiz\",verbose=True)\n"
     ]
    },
    {
     "ename": "ValidationError",
     "evalue": "1 validation error for LLMChain\nouput_key\n  Extra inputs are not permitted [type=extra_forbidden, input_value='quiz', input_type=str]\n    For further information visit https://errors.pydantic.dev/2.11/v/extra_forbidden",
     "output_type": "error",
     "traceback": [
      "\u001b[1;31m---------------------------------------------------------------------------\u001b[0m",
      "\u001b[1;31mValidationError\u001b[0m                           Traceback (most recent call last)",
      "Cell \u001b[1;32mIn[2], line 43\u001b[0m\n\u001b[0;32m     16\u001b[0m llm \u001b[38;5;241m=\u001b[39m ChatGoogleGenerativeAI(\n\u001b[0;32m     17\u001b[0m     model \u001b[38;5;241m=\u001b[39m \u001b[38;5;124m\"\u001b[39m\u001b[38;5;124mgemini-2.5-flash\u001b[39m\u001b[38;5;124m\"\u001b[39m,\n\u001b[0;32m     18\u001b[0m     google_api_key \u001b[38;5;241m=\u001b[39m os\u001b[38;5;241m.\u001b[39mgetenv(\u001b[38;5;124m\"\u001b[39m\u001b[38;5;124mGOOGLE-API-KEY\u001b[39m\u001b[38;5;124m\"\u001b[39m),\n\u001b[0;32m     19\u001b[0m     temperature \u001b[38;5;241m=\u001b[39m \u001b[38;5;241m0.7\u001b[39m,\n\u001b[0;32m     20\u001b[0m )\n\u001b[0;32m     22\u001b[0m quiz_generation_prompt \u001b[38;5;241m=\u001b[39m ChatPromptTemplate\u001b[38;5;241m.\u001b[39mfrom_messages(\n\u001b[0;32m     23\u001b[0m     [\n\u001b[0;32m     24\u001b[0m         SystemMessage(\n\u001b[1;32m   (...)\u001b[0m\n\u001b[0;32m     40\u001b[0m     ]    \n\u001b[0;32m     41\u001b[0m )\n\u001b[1;32m---> 43\u001b[0m quiz_chain \u001b[38;5;241m=\u001b[39m \u001b[43mLLMChain\u001b[49m\u001b[43m(\u001b[49m\u001b[43mllm\u001b[49m\u001b[38;5;241;43m=\u001b[39;49m\u001b[43mllm\u001b[49m\u001b[43m,\u001b[49m\u001b[43mprompt\u001b[49m\u001b[43m \u001b[49m\u001b[38;5;241;43m=\u001b[39;49m\u001b[43m \u001b[49m\u001b[43mquiz_generation_prompt\u001b[49m\u001b[43m,\u001b[49m\u001b[43m \u001b[49m\u001b[43mouput_key\u001b[49m\u001b[38;5;241;43m=\u001b[39;49m\u001b[38;5;124;43m\"\u001b[39;49m\u001b[38;5;124;43mquiz\u001b[39;49m\u001b[38;5;124;43m\"\u001b[39;49m\u001b[43m,\u001b[49m\u001b[43mverbose\u001b[49m\u001b[38;5;241;43m=\u001b[39;49m\u001b[38;5;28;43;01mTrue\u001b[39;49;00m\u001b[43m)\u001b[49m\n\u001b[0;32m     45\u001b[0m res \u001b[38;5;241m=\u001b[39m quiz_chain\u001b[38;5;241m.\u001b[39minvoke()\n",
      "File \u001b[1;32mp:\\Code\\Gen_AI_course_ineuron\\MCQ_GEN_AI\\env\\lib\\site-packages\\langchain_core\\_api\\deprecation.py:223\u001b[0m, in \u001b[0;36mdeprecated.<locals>.deprecate.<locals>.finalize.<locals>.warn_if_direct_instance\u001b[1;34m(self, *args, **kwargs)\u001b[0m\n\u001b[0;32m    221\u001b[0m     warned \u001b[38;5;241m=\u001b[39m \u001b[38;5;28;01mTrue\u001b[39;00m\n\u001b[0;32m    222\u001b[0m     emit_warning()\n\u001b[1;32m--> 223\u001b[0m \u001b[38;5;28;01mreturn\u001b[39;00m wrapped(\u001b[38;5;28mself\u001b[39m, \u001b[38;5;241m*\u001b[39margs, \u001b[38;5;241m*\u001b[39m\u001b[38;5;241m*\u001b[39mkwargs)\n",
      "File \u001b[1;32mp:\\Code\\Gen_AI_course_ineuron\\MCQ_GEN_AI\\env\\lib\\site-packages\\langchain_core\\load\\serializable.py:130\u001b[0m, in \u001b[0;36mSerializable.__init__\u001b[1;34m(self, *args, **kwargs)\u001b[0m\n\u001b[0;32m    128\u001b[0m \u001b[38;5;28;01mdef\u001b[39;00m\u001b[38;5;250m \u001b[39m\u001b[38;5;21m__init__\u001b[39m(\u001b[38;5;28mself\u001b[39m, \u001b[38;5;241m*\u001b[39margs: Any, \u001b[38;5;241m*\u001b[39m\u001b[38;5;241m*\u001b[39mkwargs: Any) \u001b[38;5;241m-\u001b[39m\u001b[38;5;241m>\u001b[39m \u001b[38;5;28;01mNone\u001b[39;00m:\n\u001b[0;32m    129\u001b[0m \u001b[38;5;250m    \u001b[39m\u001b[38;5;124;03m\"\"\"\"\"\"\u001b[39;00m  \u001b[38;5;66;03m# noqa: D419\u001b[39;00m\n\u001b[1;32m--> 130\u001b[0m     \u001b[38;5;28msuper\u001b[39m()\u001b[38;5;241m.\u001b[39m\u001b[38;5;21m__init__\u001b[39m(\u001b[38;5;241m*\u001b[39margs, \u001b[38;5;241m*\u001b[39m\u001b[38;5;241m*\u001b[39mkwargs)\n",
      "File \u001b[1;32mp:\\Code\\Gen_AI_course_ineuron\\MCQ_GEN_AI\\env\\lib\\site-packages\\pydantic\\main.py:253\u001b[0m, in \u001b[0;36mBaseModel.__init__\u001b[1;34m(self, **data)\u001b[0m\n\u001b[0;32m    251\u001b[0m \u001b[38;5;66;03m# `__tracebackhide__` tells pytest and some other tools to omit this function from tracebacks\u001b[39;00m\n\u001b[0;32m    252\u001b[0m __tracebackhide__ \u001b[38;5;241m=\u001b[39m \u001b[38;5;28;01mTrue\u001b[39;00m\n\u001b[1;32m--> 253\u001b[0m validated_self \u001b[38;5;241m=\u001b[39m \u001b[38;5;28;43mself\u001b[39;49m\u001b[38;5;241;43m.\u001b[39;49m\u001b[43m__pydantic_validator__\u001b[49m\u001b[38;5;241;43m.\u001b[39;49m\u001b[43mvalidate_python\u001b[49m\u001b[43m(\u001b[49m\u001b[43mdata\u001b[49m\u001b[43m,\u001b[49m\u001b[43m \u001b[49m\u001b[43mself_instance\u001b[49m\u001b[38;5;241;43m=\u001b[39;49m\u001b[38;5;28;43mself\u001b[39;49m\u001b[43m)\u001b[49m\n\u001b[0;32m    254\u001b[0m \u001b[38;5;28;01mif\u001b[39;00m \u001b[38;5;28mself\u001b[39m \u001b[38;5;129;01mis\u001b[39;00m \u001b[38;5;129;01mnot\u001b[39;00m validated_self:\n\u001b[0;32m    255\u001b[0m     warnings\u001b[38;5;241m.\u001b[39mwarn(\n\u001b[0;32m    256\u001b[0m         \u001b[38;5;124m'\u001b[39m\u001b[38;5;124mA custom validator is returning a value other than `self`.\u001b[39m\u001b[38;5;130;01m\\n\u001b[39;00m\u001b[38;5;124m'\u001b[39m\n\u001b[0;32m    257\u001b[0m         \u001b[38;5;124m\"\u001b[39m\u001b[38;5;124mReturning anything other than `self` from a top level model validator isn\u001b[39m\u001b[38;5;124m'\u001b[39m\u001b[38;5;124mt supported when validating via `__init__`.\u001b[39m\u001b[38;5;130;01m\\n\u001b[39;00m\u001b[38;5;124m\"\u001b[39m\n\u001b[0;32m    258\u001b[0m         \u001b[38;5;124m'\u001b[39m\u001b[38;5;124mSee the `model_validator` docs (https://docs.pydantic.dev/latest/concepts/validators/#model-validators) for more details.\u001b[39m\u001b[38;5;124m'\u001b[39m,\n\u001b[0;32m    259\u001b[0m         stacklevel\u001b[38;5;241m=\u001b[39m\u001b[38;5;241m2\u001b[39m,\n\u001b[0;32m    260\u001b[0m     )\n",
      "\u001b[1;31mValidationError\u001b[0m: 1 validation error for LLMChain\nouput_key\n  Extra inputs are not permitted [type=extra_forbidden, input_value='quiz', input_type=str]\n    For further information visit https://errors.pydantic.dev/2.11/v/extra_forbidden"
     ]
    }
   ],
   "source": [
    "import pandas as pd\n",
    "import os\n",
    "import json\n",
    "import traceback\n",
    "from dotenv import load_dotenv\n",
    "load_dotenv()\n",
    "\n",
    "from src.mcqgenerator.utils import read_file,get_table_data\n",
    "from src.mcqgenerator.looger import logging\n",
    "\n",
    "from langchain_google_genai import ChatGoogleGenerativeAI\n",
    "from langchain_core.prompts import ChatPromptTemplate\n",
    "from langchain_core.messages import SystemMessage,HumanMessage\n",
    "from langchain.chains import LLMChain\n",
    "\n",
    "llm = ChatGoogleGenerativeAI(\n",
    "    model = \"gemini-2.5-flash\",\n",
    "    google_api_key = os.getenv(\"GOOGLE-API-KEY\"),\n",
    "    temperature = 0.7,\n",
    ")\n",
    "\n",
    "quiz_generation_prompt = ChatPromptTemplate.from_messages(\n",
    "    [\n",
    "        SystemMessage(\n",
    "            content = \"You are an expert MCQ quiz maker. You have to create the quiz based on user input and given instructions.\"\n",
    "        ),\n",
    "        HumanMessage(\n",
    "            content = \"\"\"\n",
    "                Please create {number} muliple choice questions in a {tone} tone based on the following text.\n",
    "                **Text:**\n",
    "                {text}\n",
    "                \n",
    "                **Instructions:**\n",
    "                1. Ensure that all questions are from given text only.\n",
    "                2. Ensure that the questions are not repeated.\n",
    "                3. Format your entire response as a JSON object that strictly follows below given scheme.\n",
    "                {response_json}\n",
    "            \"\"\"\n",
    "        )\n",
    "    ]    \n",
    ")\n",
    "\n",
    "quiz_chain = LLMChain(llm=llm,prompt = quiz_generation_prompt, ouput_key=\"quiz\",verbose=True)\n",
    "\n",
    "res = quiz_chain.invoke()"
   ]
  },
  {
   "cell_type": "code",
   "execution_count": null,
   "id": "9f55d9b6",
   "metadata": {},
   "outputs": [],
   "source": []
  }
 ],
 "metadata": {
  "kernelspec": {
   "display_name": "env",
   "language": "python",
   "name": "python3"
  },
  "language_info": {
   "codemirror_mode": {
    "name": "ipython",
    "version": 3
   },
   "file_extension": ".py",
   "mimetype": "text/x-python",
   "name": "python",
   "nbconvert_exporter": "python",
   "pygments_lexer": "ipython3",
   "version": "3.9.23"
  }
 },
 "nbformat": 4,
 "nbformat_minor": 5
}
