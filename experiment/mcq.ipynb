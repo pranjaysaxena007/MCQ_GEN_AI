{
 "cells": [
  {
   "cell_type": "code",
   "execution_count": 2,
   "id": "8774b7ef",
   "metadata": {},
   "outputs": [
    {
     "ename": "ModuleNotFoundError",
     "evalue": "No module named 'streamlit'",
     "output_type": "error",
     "traceback": [
      "\u001b[31m---------------------------------------------------------------------------\u001b[39m",
      "\u001b[31mModuleNotFoundError\u001b[39m                       Traceback (most recent call last)",
      "\u001b[36mCell\u001b[39m\u001b[36m \u001b[39m\u001b[32mIn[2]\u001b[39m\u001b[32m, line 4\u001b[39m\n\u001b[32m      2\u001b[39m \u001b[38;5;28;01mimport\u001b[39;00m\u001b[38;5;250m \u001b[39m\u001b[34;01mjson\u001b[39;00m\n\u001b[32m      3\u001b[39m \u001b[38;5;28;01mimport\u001b[39;00m\u001b[38;5;250m \u001b[39m\u001b[34;01mtraceback\u001b[39;00m\n\u001b[32m----> \u001b[39m\u001b[32m4\u001b[39m \u001b[38;5;28;01mimport\u001b[39;00m\u001b[38;5;250m \u001b[39m\u001b[34;01mstreamlit\u001b[39;00m\u001b[38;5;250m \u001b[39m\u001b[38;5;28;01mas\u001b[39;00m\u001b[38;5;250m \u001b[39m\u001b[34;01mst\u001b[39;00m\n\u001b[32m      5\u001b[39m \u001b[38;5;28;01mimport\u001b[39;00m\u001b[38;5;250m \u001b[39m\u001b[34;01mpandas\u001b[39;00m\u001b[38;5;250m \u001b[39m\u001b[38;5;28;01mas\u001b[39;00m\u001b[38;5;250m \u001b[39m\u001b[34;01mpd\u001b[39;00m\n\u001b[32m      6\u001b[39m \u001b[38;5;28;01mfrom\u001b[39;00m\u001b[38;5;250m \u001b[39m\u001b[34;01msrc\u001b[39;00m\u001b[34;01m.\u001b[39;00m\u001b[34;01mmcqgenerator\u001b[39;00m\u001b[34;01m.\u001b[39;00m\u001b[34;01mutils\u001b[39;00m\u001b[38;5;250m \u001b[39m\u001b[38;5;28;01mimport\u001b[39;00m read_file,get_table_data\n",
      "\u001b[31mModuleNotFoundError\u001b[39m: No module named 'streamlit'"
     ]
    }
   ],
   "source": [
    "import os\n",
    "import json\n",
    "import traceback\n",
    "import streamlit as st\n",
    "import pandas as pd\n",
    "from src.mcqgenerator.utils import read_file,get_table_data\n",
    "from src.mcqgenerator.MCQGenerator import genereate_evaluate_chain\n",
    "from src.mcqgenerator.looger import logging\n",
    "from langchain.callbacks import get_openai_callback\n",
    "from dotenv import load_dotenv\n",
    "load_dotenv()"
   ]
  },
  {
   "cell_type": "code",
   "execution_count": null,
   "id": "bab79707",
   "metadata": {},
   "outputs": [],
   "source": [
    "#Testing api key\n",
    "from langchain_google_genai import ChatGoogleGenerativeAI\n",
    "from langchain_google_genai import ChatGoogleGenerativeAI\n",
    "import os\n",
    "from dotenv import load_dotenv\n",
    "\n",
    "load_dotenv()\n",
    "llm = ChatGoogleGenerativeAI(\n",
    "    model=\"gemini-2.5-flash-lite\",\n",
    "    google_api_key=os.getenv(\"GOOGLE-API-KEY\"),\n",
    "    temperature=0.3\n",
    ")\n",
    "\n",
    "response = llm.invoke(\"Say hello in Python\")\n",
    "print(response)"
   ]
  },
  {
   "cell_type": "code",
   "execution_count": null,
   "id": "ababefa6",
   "metadata": {},
   "outputs": [],
   "source": [
    "from langchain_google_genai import ChatGoogleGenerativeAI\n",
    "\n",
    "llm = ChatGoogleGenerativeAI(\n",
    "    model=\"gemini-2.5-flash\",\n",
    "    google_api_key = os.getenv(\"GOOGLE-API-KEY\")\n",
    ")"
   ]
  },
  {
   "cell_type": "code",
   "execution_count": null,
   "id": "4bb11ef7",
   "metadata": {},
   "outputs": [],
   "source": [
    "from src.mcqgenerator.utils import read_file,get_table_data\n",
    "from src.mcqgenerator.looger import logging\n",
    "\n",
    "from langchain_google_genai import ChatGoogleGenerativeAI\n",
    "from langchain_core.prompts import ChatPromptTemplate\n",
    "from langchain_core.messages import SystemMessage,HumanMessage\n",
    "from langchain_core.output_parsers import StrOutputParser\n",
    "from langchain_core.runnables import RunnablePassthrough\n"
   ]
  },
  {
   "cell_type": "code",
   "execution_count": null,
   "id": "6c4501df",
   "metadata": {},
   "outputs": [],
   "source": [
    "quiz_generation_prompt = ChatPromptTemplate.from_messages(\n",
    "    [\n",
    "        SystemMessage(\n",
    "            content = \"You are an expert MCQ quiz maker. You have to create the quiz based on user input and given instructions.\"\n",
    "        ),\n",
    "        HumanMessage(\n",
    "            content = \"\"\"\n",
    "                Please create {number} muliple choice questions in a {tone} tone based on the following text.\n",
    "                **Text:**\n",
    "                {text}\n",
    "                \n",
    "                **Instructions:**\n",
    "                1. Ensure that all questions are from given text only.\n",
    "                2. Ensure that the questions are not repeated.\n",
    "                3. Format your entire response as a JSON object that strictly follows below given scheme.\n",
    "                {response_json}\n",
    "                4. Provide only the question and answers for the questions in the response.\n",
    "                5. Do not repeat given text in your response.\n",
    "            \"\"\"\n",
    "        )\n",
    "    ]    \n",
    ")"
   ]
  },
  {
   "cell_type": "code",
   "execution_count": null,
   "id": "18dcf2b7",
   "metadata": {},
   "outputs": [],
   "source": [
    "quiz_chain = quiz_generation_prompt | llm | StrOutputParser()"
   ]
  },
  {
   "cell_type": "code",
   "execution_count": null,
   "id": "88601dae",
   "metadata": {},
   "outputs": [],
   "source": [
    "print(quiz_generation_prompt.input_variables)"
   ]
  },
  {
   "cell_type": "code",
   "execution_count": null,
   "id": "a499fdbd",
   "metadata": {},
   "outputs": [],
   "source": [
    "RESPONSE_JSON = {\n",
    "    \"1\":{\n",
    "        \"mcq\":\"multiple choice qustion\",\n",
    "        \"options\":{\n",
    "            \"a\":\"option 1\",\n",
    "            \"b\":\"option 2\",\n",
    "            \"c\":\"option 3\",\n",
    "            \"d\":\"option 4\"\n",
    "        },\n",
    "        \"answer\":\"correct answer\",\n",
    "    },\n",
    "    \"2\":{\n",
    "        \"mcq\":\"multiple choice qustion\",\n",
    "        \"options\":{\n",
    "            \"a\":\"option 1\",\n",
    "            \"b\":\"option 2\",\n",
    "            \"c\":\"option 3\",\n",
    "            \"d\":\"option 4\"\n",
    "        },\n",
    "        \"answer\":\"correct answer\",\n",
    "    },\n",
    "    \"3\":{\n",
    "        \"mcq\":\"multiple choice qustion\",\n",
    "        \"options\":{\n",
    "            \"a\":\"option 1\",\n",
    "            \"b\":\"option 2\",\n",
    "            \"c\":\"option 3\",\n",
    "            \"d\":\"option 4\"\n",
    "        },\n",
    "        \"answer\":\"correct answer\",\n",
    "    },\n",
    "}"
   ]
  },
  {
   "cell_type": "code",
   "execution_count": null,
   "id": "e94b9c07",
   "metadata": {},
   "outputs": [],
   "source": [
    "review_prompt = ChatPromptTemplate.from_messages(\n",
    "    [\n",
    "        SystemMessage(\n",
    "            content =\"You are an expert English grammarian and writer. You have to evaluate the given quiz as per instructions given below\"\n",
    "        ),\n",
    "        HumanMessage(\n",
    "            content=\"\"\"Please review the multiple choice quiz intendede for {subject} sy=tudents.\n",
    "                **Quiz for review:**\n",
    "                '''json\n",
    "                {quiz}\n",
    "                '''\n",
    "\n",
    "                **Your Task:**\n",
    "                1. Evaluate the complexity of the questions.\n",
    "                2. Assess if the quiz is appropriate for students cognitive and quantitatib=ve ability.\n",
    "                3. If the quiz is not suitable, then rewrite the questions and adjust the tone to perfectly fit students abilities.\n",
    "                4. Provide a brief analysis of your changes or your approval of the original quiz.\n",
    "                \n",
    "            \"\"\"\n",
    "        )\n",
    "    ]\n",
    ")\n"
   ]
  },
  {
   "cell_type": "code",
   "execution_count": null,
   "id": "27fa8436",
   "metadata": {},
   "outputs": [],
   "source": [
    "review_chain = review_prompt | llm | StrOutputParser()"
   ]
  },
  {
   "cell_type": "code",
   "execution_count": null,
   "id": "5692543d",
   "metadata": {},
   "outputs": [],
   "source": [
    "genereate_evaluate_chain =(\n",
    "    RunnablePassthrough.assign(quiz = quiz_chain) | \n",
    "    RunnablePassthrough.assign(review = review_chain)\n",
    ")"
   ]
  },
  {
   "cell_type": "code",
   "execution_count": null,
   "id": "adc3aacb",
   "metadata": {},
   "outputs": [],
   "source": [
    "file_path = \"P:\\Code\\Gen_AI_course_ineuron\\MCQ_GEN_AI\\data.txt\"\n",
    "with open(file_path,\"r\") as file:\n",
    "    TEXT = file.read()"
   ]
  },
  {
   "cell_type": "code",
   "execution_count": null,
   "id": "41d43055",
   "metadata": {},
   "outputs": [],
   "source": [
    "print(TEXT)"
   ]
  },
  {
   "cell_type": "code",
   "execution_count": null,
   "id": "ae24bc5a",
   "metadata": {},
   "outputs": [],
   "source": [
    "json.dumps(RESPONSE_JSON)"
   ]
  },
  {
   "cell_type": "code",
   "execution_count": null,
   "id": "da7eaeec",
   "metadata": {},
   "outputs": [],
   "source": [
    "NUMBER = 5\n",
    "SUBJECT = \"Machine Learning\"\n",
    "TONE = \"simple\""
   ]
  },
  {
   "cell_type": "code",
   "execution_count": null,
   "id": "9126407e",
   "metadata": {},
   "outputs": [],
   "source": [
    "with get_openai_callback() as cb:\n",
    "                response = quiz_chain.invoke(\n",
    "                    {\n",
    "                        \"text\": TEXT,\n",
    "                        \"number\":NUMBER,\n",
    "                        \"subject\": SUBJECT,\n",
    "                        \"tone\":TONE,\n",
    "                        \"response_json\": json.dumps(RESPONSE_JSON)\n",
    "                    }\n",
    "                )"
   ]
  },
  {
   "cell_type": "code",
   "execution_count": null,
   "id": "96cb2b28",
   "metadata": {},
   "outputs": [],
   "source": [
    "print(response)"
   ]
  },
  {
   "cell_type": "code",
   "execution_count": null,
   "id": "61efb402",
   "metadata": {},
   "outputs": [],
   "source": [
    "import json\n",
    "\n",
    "# Clean the string by removing the markdown formatting\n",
    "cleaned_string = response.strip(\"```json\\n\").strip(\"```\")\n",
    "\n",
    "# Now, parse the cleaned string into a Python dictionary\n",
    "quiz_dict = json.loads(cleaned_string)\n",
    "\n",
    "print(\"Successfully parsed the quiz!\")"
   ]
  },
  {
   "cell_type": "code",
   "execution_count": null,
   "id": "3e6643ba",
   "metadata": {},
   "outputs": [],
   "source": [
    "print(f\"Total Tokens Used: {cb.total_tokens}\")\n",
    "print(f\"Prompt Tokens: {cb.prompt_tokens}\")\n",
    "print(f\"Completion Tokens: {cb.completion_tokens}\")\n",
    "print(f\"Total Cost (USD): ${cb.total_cost:.4f}\")"
   ]
  },
  {
   "cell_type": "code",
   "execution_count": null,
   "id": "80aa0ac2",
   "metadata": {},
   "outputs": [],
   "source": [
    "import pandas as pd\n",
    "\n",
    "# The actual questions are inside the 'quiz' key\n",
    "table_data = quiz_dict['quiz']\n",
    "\n",
    "# This will now work correctly\n",
    "df = pd.DataFrame(table_data)\n",
    "\n",
    "print(df)"
   ]
  },
  {
   "cell_type": "code",
   "execution_count": null,
   "id": "33f19cee",
   "metadata": {},
   "outputs": [],
   "source": [
    "print(df)"
   ]
  },
  {
   "cell_type": "code",
   "execution_count": null,
   "id": "0e63eb86",
   "metadata": {},
   "outputs": [],
   "source": [
    "quiz_string = response\n",
    "cleaned_string = quiz_string.strip(\"```json\\n\").strip(\"`\")\n",
    "final_mcqs = json.loads(cleaned_string)\n",
    "final_mcqs\n",
    "print(json.dumps(final_mcqs, indent=4))"
   ]
  },
  {
   "cell_type": "code",
   "execution_count": null,
   "id": "badbae2a",
   "metadata": {},
   "outputs": [],
   "source": [
    "quiz_table_data = []\n",
    "for key,value in final_mcqs.items():\n",
    "    mcq = value[\"question\"]\n",
    "    options = \" | \".join(\n",
    "        [\n",
    "            f\"{option}: {option_value}\"\n",
    "            for option, option_value in value[\"options\"].items()\n",
    "            ]\n",
    "        )\n",
    "    answer = value[\"answer\"]\n",
    "    quiz_table_data.append({\"MCQ\":mcq,\"Choices\":options,\"Answer\":answer})\n"
   ]
  },
  {
   "cell_type": "code",
   "execution_count": null,
   "id": "80a5ffa3",
   "metadata": {},
   "outputs": [],
   "source": [
    "quiz_table_data"
   ]
  },
  {
   "cell_type": "code",
   "execution_count": null,
   "id": "d15bdbf2",
   "metadata": {},
   "outputs": [],
   "source": [
    "quiz = pd.DataFrame(quiz_table_data)"
   ]
  },
  {
   "cell_type": "code",
   "execution_count": null,
   "id": "cad25abe",
   "metadata": {},
   "outputs": [],
   "source": [
    "quiz.to_csv(\"machinelearning.csv\",index=False)"
   ]
  },
  {
   "cell_type": "code",
   "execution_count": null,
   "id": "932dd14e",
   "metadata": {},
   "outputs": [],
   "source": []
  }
 ],
 "metadata": {
  "kernelspec": {
   "display_name": "Python 3",
   "language": "python",
   "name": "python3"
  },
  "language_info": {
   "codemirror_mode": {
    "name": "ipython",
    "version": 3
   },
   "file_extension": ".py",
   "mimetype": "text/x-python",
   "name": "python",
   "nbconvert_exporter": "python",
   "pygments_lexer": "ipython3",
   "version": "3.11.13"
  }
 },
 "nbformat": 4,
 "nbformat_minor": 5
}
